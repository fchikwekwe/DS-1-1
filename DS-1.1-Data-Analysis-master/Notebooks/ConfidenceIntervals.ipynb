{
 "cells": [
  {
   "cell_type": "markdown",
   "metadata": {
    "slideshow": {
     "slide_type": "slide"
    }
   },
   "source": [
    "## Confidence Interval\n",
    "\n",
    "It is useful to estimate an interval for the possible values of the parameter and put a probability on how confident we are that the true parameter value falls inside this interval"
   ]
  },
  {
   "cell_type": "markdown",
   "metadata": {
    "slideshow": {
     "slide_type": "slide"
    }
   },
   "source": [
    "## Example\n",
    "\n",
    "We have the data  X and assume we know the population standard deviation ($\\sigma$). What is confidence interval for population mean?\n",
    "\n",
    "$P(L < \\mu < U) = 1 - \\alpha$\n",
    "\n",
    "We want to obtain $L$ and $U$, with 1-$\\alpha$ confidence\n",
    " "
   ]
  },
  {
   "cell_type": "markdown",
   "metadata": {
    "slideshow": {
     "slide_type": "slide"
    }
   },
   "source": [
    "## From statics references\n",
    "\n",
    "$L = \\bar{x} - z_{1- \\alpha/2}\\frac{\\sigma}{\\sqrt{N}}$\n",
    "\n",
    "$U = \\bar{x} + z_{1- \\alpha/2}\\frac{\\sigma}{\\sqrt{N}}$"
   ]
  },
  {
   "cell_type": "markdown",
   "metadata": {
    "slideshow": {
     "slide_type": "slide"
    }
   },
   "source": [
    "## Activity: Obtain the confidence interval for mean of sepal length for setosa\n",
    "\n",
    "The dataset we will work is iris.cvs\n",
    "\n",
    "Tasks:\n",
    "\n",
    "1- Explore this dataset. How many features, records and plants does it have?\n",
    "\n",
    "2- Gather all of the sepal length for Iris-setosa\n",
    "\n",
    "3- Write a function that calculate lower and upper bound for mean of sepal length for Iris-setosa with %95 confidence. \n",
    "\n",
    "Assume $\\sigma = 0.3525$\n",
    "\n",
    "Hint: use `scipy.stats.norm.ppf()` to calculate $z_{1- \\alpha/2}$\n",
    "\n"
   ]
  },
  {
   "cell_type": "code",
   "execution_count": 2,
   "metadata": {
    "slideshow": {
     "slide_type": "subslide"
    }
   },
   "outputs": [
    {
     "name": "stdout",
     "output_type": "stream",
     "text": [
      "5.006\n",
      "(4.908293780383348, 5.103706219616653)\n",
      "(4.905823539430869, 5.106176460569132)\n"
     ]
    }
   ],
   "source": [
    "import pandas as pd\n",
    "import numpy as np\n",
    "import scipy.stats\n",
    "\n",
    "df = pd.read_csv('Iris.csv')\n",
    "\n",
    "x = df[df['Species'] == 'Iris-setosa']['SepalLengthCm'].tolist()\n",
    "\n",
    "print(np.mean(x))\n",
    "\n",
    "def ci_z(data_sample, significant_level, sigma):\n",
    "    z = scipy.stats.norm.ppf(1-significant_level/2)\n",
    "    L = np.mean(data_sample) - z*sigma/np.sqrt(len(data_sample))\n",
    "    U = np.mean(data_sample) + z*sigma/np.sqrt(len(data_sample))\n",
    "    return L, U\n",
    "\n",
    "\n",
    "def ci_t(data_sample, significant_level):\n",
    "    t = scipy.stats.t.ppf(1 - significant_level/2, len(data_sample) - 1)\n",
    "    L = np.mean(data_sample) - t * np.std(data_sample, ddof=1) / np.sqrt(len(data_sample))\n",
    "    U = np.mean(data_sample) + t * np.std(data_sample, ddof=1) / np.sqrt(len(data_sample))\n",
    "    return L, U\n",
    "\n",
    "print(ci_z(x, 0.05, 0.3525))\n",
    "print(ci_t(x,0.05))"
   ]
  },
  {
   "cell_type": "markdown",
   "metadata": {
    "slideshow": {
     "slide_type": "slide"
    }
   },
   "source": [
    "## Outlier Detection\n",
    "\n",
    "Outliers are extreme values that can skew our dataset, sometimes giving us an incorrect picture of how things actually are in our dataset. The hardest part of this is determining which data points are acceptable, and which ones constitute \"outlier\" status."
   ]
  },
  {
   "cell_type": "markdown",
   "metadata": {
    "slideshow": {
     "slide_type": "slide"
    }
   },
   "source": [
    "## Activity: find and remove outliers if our dataset is Normal\n",
    "\n",
    "When our sample data is close to normal distribution, the samples that be outside of three standard deviation can be considered as outliers.\n",
    "\n",
    "Task: Write a function that first find outliers for a normally distributed data, then remove them.\n"
   ]
  },
  {
   "cell_type": "code",
   "execution_count": 12,
   "metadata": {
    "slideshow": {
     "slide_type": "subslide"
    }
   },
   "outputs": [],
   "source": [
    "import numpy as np\n",
    "\n",
    "def find_remove_outlier(data_sample):\n",
    "    # calculate summary statistics\n",
    "    data_mean, data_std = np.mean(data), np.std(data)\n",
    "    # define cut-off\n",
    "    cut_off = data_std * 3\n",
    "    lower, upper = data_mean - cut_off, data_mean + cut_off\n",
    "    # identify outliers\n",
    "    outliers = [x for x in data_sample if x < lower or x > upper]\n",
    "    # remove outliers\n",
    "    outliers_removed = [x for x in data_sample if x > lower and x < upper]\n",
    "    return outliers, outliers_removed"
   ]
  },
  {
   "cell_type": "markdown",
   "metadata": {
    "slideshow": {
     "slide_type": "slide"
    }
   },
   "source": [
    "## Interquartile range (IQR) for finding and removing outlier when data has any distribution\n",
    "\n",
    "Tukey suggested to calculate the range between the first quartile (25%) and third quartile (75%) in the data, called the interquartile range (IQR)."
   ]
  },
  {
   "cell_type": "markdown",
   "metadata": {
    "slideshow": {
     "slide_type": "slide"
    }
   },
   "source": [
    "## Activity:  IQR outlier detection and removal\n",
    "\n",
    "Task: write a function to find and remove outliers based on IQR method for this data sample:\n",
    "\n",
    "Hint: \n",
    "\n",
    "$Q_1$ is the first quartile (25%) \n",
    "\n",
    "$Q_3$ is the third quartile (75%) \n",
    "\n",
    "<img src=\"Images/iqr.png\"> \n",
    "\n",
    "`x = [norm.rvs(loc=5 , scale=1 , size=100), -5, 11, 14]`\n"
   ]
  },
  {
   "cell_type": "code",
   "execution_count": 11,
   "metadata": {
    "slideshow": {
     "slide_type": "subslide"
    }
   },
   "outputs": [
    {
     "name": "stdout",
     "output_type": "stream",
     "text": [
      "<class 'numpy.ndarray'>\n",
      "[-5.0, 11.0, 14.0]\n",
      "1.4155828487118614\n"
     ]
    }
   ],
   "source": [
    "import numpy as np\n",
    "\n",
    "def find_remove_outlier_iqr(data_sample):\n",
    "    # calculate interquartile range\n",
    "    q25, q75 = np.percentile(data_sample, 25), np.percentile(data_sample, 75)\n",
    "    iqr = q75 - q25\n",
    "    # calculate the outlier cutoff\n",
    "    cut_off = iqr * 1.5\n",
    "    lower, upper = q25 - cut_off, q75 + cut_off\n",
    "    # identify outliers\n",
    "    outliers = [x for x in data_sample if x < lower or x > upper]\n",
    "    # remove outliers\n",
    "    outliers_removed = [x for x in data_sample if x > lower and x < upper]\n",
    "    return outliers\n",
    "\n",
    "y = np.array([-5, 11, 14])\n",
    "x =  np.concatenate((scipy.stats.norm.rvs(loc=5 , scale=1 , size=100), y))\n",
    "print(type(x))\n",
    "print(find_remove_outlier_iqr(x))\n",
    "print(scipy.stats.iqr(x))"
   ]
  },
  {
   "cell_type": "markdown",
   "metadata": {
    "slideshow": {
     "slide_type": "slide"
    }
   },
   "source": [
    "## How we can visualy see the outlier?\n",
    "\n",
    "Box plot use the IQR method to display data and outliers"
   ]
  },
  {
   "cell_type": "code",
   "execution_count": 32,
   "metadata": {
    "slideshow": {
     "slide_type": "subslide"
    }
   },
   "outputs": [
    {
     "data": {
      "image/png": "[encoded data removed]",
      "text/plain": [
       "<Figure size 432x288 with 1 Axes>"
      ]
     },
     "metadata": {},
     "output_type": "display_data"
    }
   ],
   "source": [
    "import matplotlib.pyplot as plt\n",
    "\n",
    "plt.boxplot(x)\n",
    "\n",
    "plt.show()"
   ]
  },
  {
   "cell_type": "code",
   "execution_count": null,
   "metadata": {},
   "outputs": [],
   "source": []
  }
 ],
 "metadata": {
  "celltoolbar": "Slideshow",
  "kernelspec": {
   "display_name": "Python 3",
   "language": "python",
   "name": "python3"
  },
  "language_info": {
   "codemirror_mode": {
    "name": "ipython",
    "version": 3
   },
   "file_extension": ".py",
   "mimetype": "text/x-python",
   "name": "python",
   "nbconvert_exporter": "python",
   "pygments_lexer": "ipython3",
   "version": "3.6.5"
  }
 },
 "nbformat": 4,
 "nbformat_minor": 2
}
