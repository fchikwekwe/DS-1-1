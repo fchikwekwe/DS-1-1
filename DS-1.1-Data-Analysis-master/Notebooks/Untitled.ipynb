{
 "cells": [
  {
   "cell_type": "code",
   "execution_count": 4,
   "metadata": {},
   "outputs": [],
   "source": [
    "# Pandas is a library for basic data analysis\n",
    "import pandas as pd\n",
    "\n",
    "# NumPy is a library for advanced mathematical computation\n",
    "import numpy as np\n",
    "\n",
    "# MatPlotLib is a library for basic data visualization\n",
    "import matplotlib.pyplot as plt\n",
    "\n",
    "# SeaBorn is a library for advanced data visualization\n",
    "import seaborn as sns"
   ]
  },
  {
   "cell_type": "code",
   "execution_count": 5,
   "metadata": {},
   "outputs": [],
   "source": [
    "sns.set(style=\"white\", context=\"notebook\", palette=\"deep\")\n",
    "\n",
    "COLOR_COLUMNS = [\"#66C2FF\", \"#5CD6D6\", \"#00CC99\", \"#85E085\", \"#FFD966\", \"#FFB366\", \"#FFB3B3\", \"#DAB3FF\", \"#C2C2D6\"]\n",
    "\n",
    "sns.set_palette(palette=COLOR_COLUMNS, n_colors=4)"
   ]
  },
  {
   "cell_type": "code",
   "execution_count": 7,
   "metadata": {},
   "outputs": [
    {
     "name": "stdout",
     "output_type": "stream",
     "text": [
      "/Users/faith1/code/courses/DS-1-1/DS-1.1-Data-Analysis-master/Notebooks/Datasets\n"
     ]
    }
   ],
   "source": [
    "%cd datasets"
   ]
  },
  {
   "cell_type": "code",
   "execution_count": 9,
   "metadata": {},
   "outputs": [
    {
     "name": "stdout",
     "output_type": "stream",
     "text": [
      "/Users/faith1/code/courses/DS-1-1/DS-1.1-Data-Analysis-master/Notebooks\n"
     ]
    }
   ],
   "source": [
    "%cd -"
   ]
  },
  {
   "cell_type": "code",
   "execution_count": 11,
   "metadata": {},
   "outputs": [
    {
     "name": "stdout",
     "output_type": "stream",
     "text": [
      "/Users/faith1/code/courses/DS-1-1/DS-1.1-Data-Analysis-master\n"
     ]
    }
   ],
   "source": [
    "%cd .."
   ]
  },
  {
   "cell_type": "code",
   "execution_count": 12,
   "metadata": {},
   "outputs": [
    {
     "name": "stdout",
     "output_type": "stream",
     "text": [
      "\u001b[1m\u001b[36mLessons\u001b[m\u001b[m/   \u001b[1m\u001b[36mNotebooks\u001b[m\u001b[m/ \u001b[31mReadMe.md\u001b[m\u001b[m* \u001b[31mSetup.md\u001b[m\u001b[m*\r\n"
     ]
    }
   ],
   "source": [
    "%ls\n"
   ]
  },
  {
   "cell_type": "code",
   "execution_count": 13,
   "metadata": {},
   "outputs": [
    {
     "name": "stdout",
     "output_type": "stream",
     "text": [
      "/Users/faith1/code/courses/DS-1-1/DS-1.1-Data-Analysis-master/Notebooks\n"
     ]
    }
   ],
   "source": [
    "%cd Notebooks"
   ]
  },
  {
   "cell_type": "code",
   "execution_count": 14,
   "metadata": {},
   "outputs": [
    {
     "name": "stdout",
     "output_type": "stream",
     "text": [
      "\u001b[31mChallenges_Time Series.ipynb\u001b[m\u001b[m*   \u001b[31mNormalDistribution.ipynb\u001b[m\u001b[m*\r\n",
      "\u001b[31mConditionalProbability.ipynb\u001b[m\u001b[m*   \u001b[31mPandas_Intro.ipynb\u001b[m\u001b[m*\r\n",
      "\u001b[31mConfidenceIntervals.ipynb\u001b[m\u001b[m*      \u001b[31mPandas_Merge_Cooncate.ipynb\u001b[m\u001b[m*\r\n",
      "\u001b[31mDataVisualization.ipynb\u001b[m\u001b[m*        \u001b[31mPandas_Titanic.ipynb\u001b[m\u001b[m*\r\n",
      "\u001b[31mData_Analysis_Intro.ipynb\u001b[m\u001b[m*      \u001b[31mStatisticalAnalysis.ipynb\u001b[m\u001b[m*\r\n",
      "\u001b[1m\u001b[36mDatasets\u001b[m\u001b[m/                       \u001b[31mStatisticalDistributions.ipynb\u001b[m\u001b[m*\r\n",
      "\u001b[31mDescriptiveStatistics.ipynb\u001b[m\u001b[m*    Untitled.ipynb\r\n",
      "\u001b[31mHypothesisTesting.ipynb\u001b[m\u001b[m*        \u001b[31mslides_time_series.ipynb\u001b[m\u001b[m*\r\n",
      "\u001b[1m\u001b[36mImages\u001b[m\u001b[m/\r\n"
     ]
    }
   ],
   "source": [
    "%ls"
   ]
  },
  {
   "cell_type": "code",
   "execution_count": null,
   "metadata": {},
   "outputs": [],
   "source": []
  }
 ],
 "metadata": {
  "kernelspec": {
   "display_name": "Python 3",
   "language": "python",
   "name": "python3"
  },
  "language_info": {
   "codemirror_mode": {
    "name": "ipython",
    "version": 3
   },
   "file_extension": ".py",
   "mimetype": "text/x-python",
   "name": "python",
   "nbconvert_exporter": "python",
   "pygments_lexer": "ipython3",
   "version": "3.7.1"
  }
 },
 "nbformat": 4,
 "nbformat_minor": 2
}
