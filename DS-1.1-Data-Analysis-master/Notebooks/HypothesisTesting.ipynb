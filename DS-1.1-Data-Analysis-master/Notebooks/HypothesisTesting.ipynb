{
 "cells": [
  {
   "cell_type": "markdown",
   "metadata": {
    "slideshow": {
     "slide_type": "slide"
    }
   },
   "source": [
    "## What is null hypothesis?\n",
    "\n",
    "It is the formal methods of reaching conclusions based on population statistics and sample data where we apply changes to population"
   ]
  },
  {
   "cell_type": "markdown",
   "metadata": {
    "slideshow": {
     "slide_type": "slide"
    }
   },
   "source": [
    "## Null hypothesis examples\n",
    "\n",
    "\n",
    "1- Raindance, cultures people dance together to have rain during periods of drought <img src=\"Images/raindance.jpg\">\n",
    "\n",
    "2- We want to test a drug has impact on brain \n",
    "\n",
    "3- Does a food boost IQ?\n",
    "\n",
    "4- A/B test\n"
   ]
  },
  {
   "cell_type": "markdown",
   "metadata": {
    "slideshow": {
     "slide_type": "slide"
    }
   },
   "source": [
    "## Learning Objectives\n",
    "\n",
    "By the end of this lesson, students will be able to:\n",
    "\n",
    "1- Describe null hypothesis and when and how apply Null Hypothesis\n",
    "\n",
    "2- What are the metrics we need in order to statistically accept or reject null\n",
    "\n",
    "3- How and when use Z test or T test\n",
    "\n",
    "4- Whether or not two samples are different\n"
   ]
  },
  {
   "cell_type": "markdown",
   "metadata": {
    "slideshow": {
     "slide_type": "slide"
    }
   },
   "source": [
    "## Review of Z distribution, CDF and SF\n",
    "\n",
    "Activity: Generate 10000 sample as a random variable with Normal distribution with pre-define mean and standard deviation.\n",
    "\n",
    "Hint = from scipy.stats import norm \n",
    "\n",
    "       norm.rvs(loc= , scale= , size=10000)\n",
    "\n",
    "Write a code to show that $Z = \\frac{X - \\mu}{\\sigma}$, is standard Normal\n",
    "\n",
    "Hint: Plot histogram of Z, show Z is standard normal"
   ]
  },
  {
   "cell_type": "markdown",
   "metadata": {
    "slideshow": {
     "slide_type": "slide"
    }
   },
   "source": [
    "## Do the questions in worksheet\n",
    "\n",
    "Have 5 minutes to do it"
   ]
  },
  {
   "cell_type": "markdown",
   "metadata": {
    "slideshow": {
     "slide_type": "slide"
    }
   },
   "source": [
    "## Null hypothesis drug example on rat\n",
    "\n",
    "A neurologist is testing the effect of a drug on response time by injecting 100 rats with a unit dose of a drug, subjecting each to neurologist stimulus and recording its response time. The neurologist knows that the mean response time for rats not injected with the drug is 1.2 seconds. The mean of the 100 injected rats's response time is 1.05 seconds with population standard deviation of 0.5 seconds. Do you think the drug has effect on response time?"
   ]
  },
  {
   "cell_type": "markdown",
   "metadata": {
    "slideshow": {
     "slide_type": "subslide"
    }
   },
   "source": [
    "$H_o :$ Drug has no effect ==> $\\mu_x = 1.2$ even with drug \n",
    "\n",
    "$H_a :$ Drug has effect ==> $\\mu_x \\neq 1.2$ when the drug is given"
   ]
  },
  {
   "cell_type": "markdown",
   "metadata": {
    "slideshow": {
     "slide_type": "slide"
    }
   },
   "source": [
    "## The steps to reject or accept the null hypothesis\n",
    "\n",
    "1- The population mean is known, $\\mu$\n",
    "\n",
    "2- The sample mean is known, $\\bar{x}$\n",
    "\n",
    "3- Define a significant level, $\\alpha$\n",
    "\n",
    "4- If $N$ > 30, calculate z-score, $z-score = \\frac{\\bar{x} - \\mu}{\\sigma/\\sqrt{N}}$\n",
    "\n",
    "5- Calculate p-value, $p-value = 2SF(Z-score)$\n",
    "\n",
    "6- Decision: if $p-value < \\alpha$ then reject the null hypothesis "
   ]
  },
  {
   "cell_type": "markdown",
   "metadata": {
    "slideshow": {
     "slide_type": "slide"
    }
   },
   "source": [
    "## Activity: z-test\n",
    "\n",
    "Write a function the takes the mean of population, significant level and the samples as the input argument \n",
    "\n",
    "then decide to reject ot accept the null hypothesis for drug effect on rat\n",
    "\n",
    "Recall: $\\mu = 1.2$, $\\bar{x} = 1.05$, $N = 100$ and $\\sigma = 0.5$"
   ]
  },
  {
   "cell_type": "code",
   "execution_count": 12,
   "metadata": {
    "slideshow": {
     "slide_type": "subslide"
    }
   },
   "outputs": [],
   "source": [
    "def accept_or_reject_null_hypothesis(mu, sample_mean, significant_level, N):\n",
    "    # Calculate standard deviation of the sampling distribution\n",
    "    sample_std = sigma / N\n",
    "    \n",
    "    # Calculate z-score from population mean (mu), sample mean and sample std\n",
    "    z = (sample_mean - mu) / sample_std\n",
    "    \n",
    "    # Calculate p-value from z-score\n",
    "    p_value = 2 * norm.cdf(-np.abs(z))\n",
    "    \n",
    "    # Determine whether to accept or reject null hypothesis\n",
    "    if p_value < significant_level:\n",
    "        print('reject null hypothesis')\n",
    "    else:\n",
    "        print('accept null hypothesis')"
   ]
  },
  {
   "cell_type": "markdown",
   "metadata": {
    "slideshow": {
     "slide_type": "slide"
    }
   },
   "source": [
    "## Break\n",
    "\n",
    "Lets have 10 minutes break\n"
   ]
  },
  {
   "cell_type": "markdown",
   "metadata": {
    "slideshow": {
     "slide_type": "slide"
    }
   },
   "source": [
    "## Activity: t-test\n",
    "\n",
    "The average British man is 175.3 cm tall. A survey recorded the heights of 10 British men. Calculate the t-score from formula and use available function in `stats.ttest_1samp`. Compare what you will get\n",
    "\n",
    "`x = [177.3, 182.7, 169.6, 176.3, 180.3, 179.4, 178.5, 177.2, 181.8, 176.5]`"
   ]
  },
  {
   "cell_type": "code",
   "execution_count": 13,
   "metadata": {
    "scrolled": true,
    "slideshow": {
     "slide_type": "subslide"
    }
   },
   "outputs": [
    {
     "name": "stdout",
     "output_type": "stream",
     "text": [
      "t-statistic:  2.295568968083183\n",
      "t =  2.295568968083183 , p =  0.04734137339747034\n"
     ]
    }
   ],
   "source": [
    "from scipy import stats\n",
    "import numpy as np\n",
    "\n",
    "x = [177.3, 182.7, 169.6, 176.3, 180.3, 179.4, 178.5, 177.2, 181.8, 176.5]\n",
    "mu = 175.3\n",
    "sample_mean = np.array(x).mean()\n",
    "\n",
    "# Calculate the standard deviation of sample distribution\n",
    "\n",
    "N = len(x) # number of data samples\n",
    "SE = np.array(x).std(ddof=1) /np.sqrt(N)\n",
    "\n",
    "# t-test from formula\n",
    "t = (sample_mean - mu)/SE\n",
    "print(\"t-statistic: \",t)\n",
    "\n",
    "# one sample t-test that gives you the p-value too can be done with scipy as follows:\n",
    "t, p = stats.ttest_1samp(x, mu)\n",
    "print(\"t = \", t, \", p = \", p)"
   ]
  },
  {
   "cell_type": "markdown",
   "metadata": {
    "slideshow": {
     "slide_type": "slide"
    }
   },
   "source": [
    "## Activity: z-test or t-test\n",
    "\n",
    "Write a function that determine whether use z-test or t-test in order to accept or reject null hypothesis"
   ]
  },
  {
   "cell_type": "code",
   "execution_count": 4,
   "metadata": {
    "slideshow": {
     "slide_type": "subslide"
    }
   },
   "outputs": [],
   "source": [
    "def z_t_null_hypothesis(data_sample, mu, sigma, significant_level):\n",
    "    if sigma:\n",
    "        z_score = (np.mean(data_sample)-mu)/(sigma/np.sqrt(len(data_sample)))\n",
    "        p = scipy.stats.norm.sf(abs(z_score))*2\n",
    "    elif len(data_sample) > 30:\n",
    "        z_score = (np.mean(data_sample)-mu)/(np.std(data_sample)/np.sqrt(len(data_sample)))\n",
    "        p = scipy.stats.norm.sf(abs(z_score))*2\n",
    "    else:\n",
    "        t, p = stats.ttest_1samp(data_sample, mu)\n",
    "    \n",
    "    if p < significant_level:\n",
    "        print('reject null hypothesis')\n",
    "        \n",
    "    else:\n",
    "        print('accept null hypothesis')"
   ]
  },
  {
   "cell_type": "markdown",
   "metadata": {
    "slideshow": {
     "slide_type": "slide"
    }
   },
   "source": [
    "## What is one-tail or two-tail calculation for p-value?\n",
    "\n",
    "If the alternative hypothesis says the mean of sample is different from mean of population, we should compute p-value from two-tail. If it says the mean of sample is greater or lower than the mean of population we should compute one-tail"
   ]
  },
  {
   "cell_type": "markdown",
   "metadata": {
    "slideshow": {
     "slide_type": "slide"
    }
   },
   "source": [
    "## Possible errors that can happen when accept or reject null hypothesis\n",
    "\n",
    "ype I error : We reject the null hypothesis when the null is true\n",
    "\n",
    "$\\alpha$ = P(rejecting $H_o$  $|$  $H_o$ is true)\n",
    "\n",
    "Type II error : We accept the null hypothesis when it is not true\n",
    "\n",
    "$\\beta$ = P(accepting $H_o$ $|$ $H_o$ is false)\n",
    "\n",
    "The drug has effect on brain\n",
    "\n",
    "The drug has no effect on brain"
   ]
  },
  {
   "cell_type": "markdown",
   "metadata": {
    "slideshow": {
     "slide_type": "slide"
    }
   },
   "source": [
    "## Other examples for statistical test \n",
    "\n",
    "Please read the Unpaired t-test part of this article\n",
    "\n",
    "http://iaingallagher.tumblr.com/post/50980987285/t-tests-in-python"
   ]
  },
  {
   "cell_type": "markdown",
   "metadata": {
    "slideshow": {
     "slide_type": "slide"
    }
   },
   "source": [
    "## Homework\n",
    "\n",
    "https://docs.google.com/document/d/1ITryiXU_VoyBvtZY4deehk4PmlieSlF7rSNc8sBU3Sw/edit"
   ]
  }
 ],
 "metadata": {
  "celltoolbar": "Slideshow",
  "kernelspec": {
   "display_name": "Python 3",
   "language": "python",
   "name": "python3"
  },
  "language_info": {
   "codemirror_mode": {
    "name": "ipython",
    "version": 3
   },
   "file_extension": ".py",
   "mimetype": "text/x-python",
   "name": "python",
   "nbconvert_exporter": "python",
   "pygments_lexer": "ipython3",
   "version": "3.6.5"
  }
 },
 "nbformat": 4,
 "nbformat_minor": 2
}
