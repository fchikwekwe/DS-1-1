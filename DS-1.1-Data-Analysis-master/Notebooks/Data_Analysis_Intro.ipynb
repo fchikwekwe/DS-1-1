{
 "cells": [
  {
   "cell_type": "markdown",
   "metadata": {},
   "source": [
    "## What is Data Science?\n",
    "\n",
    "- Lets watch this good video : https://www.youtube.com/watch?v=DZ7xuZ1-uh8\n",
    "\n",
    "<img src=\"Images/DS_process.png\" width=\"600\" height=\"600\">"
   ]
  },
  {
   "cell_type": "markdown",
   "metadata": {},
   "source": [
    "## Data Science Road Map at Make School\n",
    "\n",
    "- https://docs.google.com/document/d/1dtMNJRDto5cWPLJv0J4eGxv_rv__20ZKsd9RaXU0ioM/edit"
   ]
  },
  {
   "cell_type": "markdown",
   "metadata": {},
   "source": [
    "## What is Exploratory Data Analysis (EDA)?\n",
    "\n",
    "- Refers to the critical process of performing initial investigations on data so as to discover patterns,to spot anomalies,to test hypothesis and to check assumptions with the help of summary statistics and graphical representations\n",
    "\n",
    "- EDA has three components:\n",
    "\n",
    "    - Data analysis. Example: the telecom churn dataset is given, we want to obtain what is the percentage of loyal and non-loyal customers, which state has the highest churn customers, What is the maximum length of international calls among loyal users (Churn == 0) who do not have an international plan?\n",
    "    \n",
    "    - Data analysis and visualization. Normally comparison by plotting the result whichis easier for human than reading raw numbers\n",
    "    \n",
    "    - Statistical analysis on the data. Example: the titanic dataset is given, at specific \"Embark\" what is the distibution of male passengers over all age (were they mainly young, middle age or old)\n",
    "    \n",
    "<img src=\"Images/DA_process.png\" width=\"600\" height=\"600\">"
   ]
  },
  {
   "cell_type": "markdown",
   "metadata": {},
   "source": [
    "## Which software and tools we need for EDA?\n",
    "\n",
    "- As for now, you’ll only need Anaconda (built with Python 3.6)\n",
    "\n",
    "- After installing Anaconda, we mainly use:\n",
    "\n",
    "    - `pandas`, which is a Python library that provides extensive means for data analysis\n",
    "    \n",
    "    - `matplotlib` and seaborn, for data visualization\n",
    "    \n",
    "    - `scipy` and `statsmodels` for statistical data analysis\n",
    "    \n",
    "<img src=\"Images/DA_tools.png\" width=\"600\" height=\"600\">"
   ]
  },
  {
   "cell_type": "markdown",
   "metadata": {},
   "source": [
    "## What is Jupyter Notebook?\n",
    "\n",
    "<img src=\"Images/what_is_jupyter_notebook.png\" width=\"600\" height=\"600\">"
   ]
  },
  {
   "cell_type": "markdown",
   "metadata": {},
   "source": [
    "## Who make more money (Salary) for DS in London?\n",
    "\n",
    "- Scrape Indeed API for all junior/senior positions for Data Engineer, Data Analyst and Data Scientist \n",
    "\n",
    "- Represent the salaries in Cumulative Density Function (CDF)\n",
    "\n",
    "<img src=\"Images/DE_DA_DS.png\" width=\"500\" height=\"500\">\n",
    "\n",
    "- https://dashee87.github.io/data%20science/r/Engineering-Data-Engineers/\n",
    "\n"
   ]
  },
  {
   "cell_type": "markdown",
   "metadata": {},
   "source": [
    "### Resources we can pull data and access to data \n",
    "\n",
    "- Databases, writing SQL queries for example \n",
    "\n",
    "- CSV files\n",
    "\n",
    "- Calling API, for example Indeed API\n",
    "\n",
    "- Crawling (Scrape) websites "
   ]
  },
  {
   "cell_type": "markdown",
   "metadata": {},
   "source": [
    "## Activity: How many female passengers survived in Titanic?\n",
    "\n",
    "- Dataset Description: https://www.kaggle.com/andyyang/titanic-survival-project\n",
    "\n",
    "- The intention of this activity is to show using appropriate data science packages, will accelarate our analysis and modeling "
   ]
  },
  {
   "cell_type": "code",
   "execution_count": 1,
   "metadata": {},
   "outputs": [],
   "source": [
    "# without using pandas\n",
    "\n",
    "import csv\n",
    "\n",
    "with open('titanic.csv') as csv_file:\n",
    "    csv_reader = csv.reader(csv_file, delimiter=',')\n",
    "    gender_ls = []\n",
    "    survive_ls = []\n",
    "    for row in csv_reader:\n",
    "        gender_ls.append(row[4])\n",
    "        survive_ls.append(row[1])\n",
    "        \n",
    "gender_ls = gender_ls[1:]  \n",
    "survive_ls = survive_ls [1:]\n",
    "\n",
    "female_index = [i for i, j in enumerate(gender_ls) if j == 'female']\n",
    "print(female_index)\n",
    "female_survived_not_survived = [survive_ls[i] for i in female_index]\n",
    "\n",
    "num_female_survived = len([i for i, j in enumerate(female_survived_not_survived) if j == '1'])\n",
    "print(num_female_survived)"
   ]
  },
  {
   "cell_type": "code",
   "execution_count": null,
   "metadata": {},
   "outputs": [],
   "source": [
    "# Using pandas\n",
    "\n",
    "import pandas as pd\n",
    "\n",
    "df = pd.read_csv('titanic.csv')\n",
    "\n",
    "len(df[(df['Sex'] == 'female') & (df['Survived'] == 1)])"
   ]
  }
 ],
 "metadata": {
  "kernelspec": {
   "display_name": "Python 3",
   "language": "python",
   "name": "python3"
  },
  "language_info": {
   "codemirror_mode": {
    "name": "ipython",
    "version": 3
   },
   "file_extension": ".py",
   "mimetype": "text/x-python",
   "name": "python",
   "nbconvert_exporter": "python",
   "pygments_lexer": "ipython3",
   "version": "3.6.5"
  }
 },
 "nbformat": 4,
 "nbformat_minor": 2
}
